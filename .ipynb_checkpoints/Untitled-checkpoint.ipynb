{
 "cells": [
  {
   "cell_type": "code",
   "execution_count": 36,
   "metadata": {},
   "outputs": [],
   "source": [
    "import pymysql.cursors\n",
    "import pandas as pd\n",
    "\n",
    "# Connect to the database\n",
    "conn = pymysql.connect(host='hackathon-db.bdc.n360.io',\n",
    "                             port=3306,\n",
    "                             user='events',\n",
    "                             password='Hack@th0n2019',\n",
    "                             db='hackathon',\n",
    "                             charset='utf8mb4',\n",
    "                             cursorclass=pymysql.cursors.DictCursor)\n"
   ]
  },
  {
   "cell_type": "code",
   "execution_count": 15,
   "metadata": {},
   "outputs": [
    {
     "name": "stdout",
     "output_type": "stream",
     "text": [
      "{'TABLE_NAME': 'activity'}\n",
      "{'TABLE_NAME': 'car_inventory'}\n",
      "{'TABLE_NAME': 'car_lineup'}\n",
      "{'TABLE_NAME': 'car_lineup_ext_color'}\n",
      "{'TABLE_NAME': 'car_lineup_int_color'}\n",
      "{'TABLE_NAME': 'car_lineup_trim'}\n",
      "{'TABLE_NAME': 'lead'}\n",
      "{'TABLE_NAME': 'lead_car_info'}\n",
      "{'TABLE_NAME': 'organization_unit'}\n",
      "{'TABLE_NAME': 'organization_unit_inventory'}\n",
      "{'TABLE_NAME': 'organization_unit_make'}\n",
      "{'TABLE_NAME': 'organization_unit_opening_hours'}\n",
      "{'TABLE_NAME': 'promotion'}\n",
      "{'TABLE_NAME': 'promotion_website'}\n",
      "{'TABLE_NAME': 'province'}\n",
      "{'TABLE_NAME': 'website'}\n",
      "{'TABLE_NAME': 'website_statistics'}\n"
     ]
    }
   ],
   "source": [
    "with conn:\n",
    "    cur = conn.cursor()\n",
    "    cur.execute(\"SELECT TABLE_NAME FROM information_schema.TABLES WHERE TABLE_SCHEMA = 'hackathon'\")\n",
    "\n",
    "    rows = cur.fetchall()\n",
    "\n",
    "    for row in rows:\n",
    "        print(row)\n"
   ]
  },
  {
   "cell_type": "code",
   "execution_count": 28,
   "metadata": {},
   "outputs": [],
   "source": [
    "with conn:\n",
    "    cur = conn.cursor()\n",
    "    cur.execute(\"SELECT * FROM promotion\")\n",
    "\n",
    "    rows = cur.fetchall()\n",
    "    res = pd.DataFrame(rows)\n",
    "    \n",
    "#     for row in rows:\n",
    "#         print(row)\n"
   ]
  },
  {
   "cell_type": "code",
   "execution_count": 29,
   "metadata": {},
   "outputs": [
    {
     "data": {
      "text/plain": [
       "Index(['bonus', 'cashdown', 'creation_date', 'description', 'distance_allowed',\n",
       "       'distance_period', 'end_date', 'financing_duration', 'frequency',\n",
       "       'img_url', 'interest_rate', 'last_modified_date', 'make', 'make_id',\n",
       "       'model', 'model_id', 'payment', 'promotion_id', 'rebate', 'start_date',\n",
       "       'title', 'trim', 'trim_id', 'type', 'year'],\n",
       "      dtype='object')"
      ]
     },
     "execution_count": 29,
     "metadata": {},
     "output_type": "execute_result"
    }
   ],
   "source": [
    "res.columns"
   ]
  },
  {
   "cell_type": "code",
   "execution_count": null,
   "metadata": {},
   "outputs": [],
   "source": []
  },
  {
   "cell_type": "code",
   "execution_count": 31,
   "metadata": {},
   "outputs": [],
   "source": [
    "with conn:\n",
    "    cur = conn.cursor()\n",
    "    cur.execute(\"SELECT * FROM organization_unit\")\n",
    "\n",
    "    rows = cur.fetchall()\n",
    "#     print(rows)\n",
    "    res = pd.DataFrame(rows)\n",
    "    \n",
    "#     for row in rows:\n",
    "#         print(row)\n"
   ]
  },
  {
   "cell_type": "code",
   "execution_count": 16,
   "metadata": {},
   "outputs": [],
   "source": [
    "import redis\n",
    "import time\n",
    "import pickle\n",
    "\n",
    "r = redis.Redis(host='localhost', port=6379, db=0)"
   ]
  },
  {
   "cell_type": "code",
   "execution_count": 9,
   "metadata": {},
   "outputs": [
    {
     "data": {
      "text/plain": [
       "True"
      ]
     },
     "execution_count": 9,
     "metadata": {},
     "output_type": "execute_result"
    }
   ],
   "source": [
    "r.get(\"fooo\") == None"
   ]
  },
  {
   "cell_type": "code",
   "execution_count": null,
   "metadata": {},
   "outputs": [],
   "source": []
  },
  {
   "cell_type": "code",
   "execution_count": 25,
   "metadata": {},
   "outputs": [],
   "source": [
    "def log_visit(anonymous_id, car_id):\n",
    "    lst = []\n",
    "    if (r.get(anonymous_id) == None):\n",
    "        lst = [{\n",
    "            \"time\": time.time(),\n",
    "            \"car_id\": car_id\n",
    "        }]\n",
    "    else:\n",
    "        lst = pickle.loads(r.get(anonymous_id))\n",
    "        lst.append({\"time\": time.time(),\n",
    "                    \"car_id\": car_id})\n",
    "    \n",
    "    r.set(anonymous_id, pickle.dumps(lst))\n",
    "\n",
    "        \n",
    "        "
   ]
  },
  {
   "cell_type": "code",
   "execution_count": 23,
   "metadata": {},
   "outputs": [],
   "source": [
    "anonymous_call(\"12345678901234567890\", \"test_car_id_2\")"
   ]
  },
  {
   "cell_type": "code",
   "execution_count": 18,
   "metadata": {},
   "outputs": [
    {
     "data": {
      "text/plain": [
       "True"
      ]
     },
     "execution_count": 18,
     "metadata": {},
     "output_type": "execute_result"
    }
   ],
   "source": [
    "r.set(\"12345678901234567890\", pickle.dumps([]))"
   ]
  },
  {
   "cell_type": "code",
   "execution_count": 24,
   "metadata": {},
   "outputs": [
    {
     "data": {
      "text/plain": [
       "[{'car_id': 'test_car_id_1', 'time': 1552754020.272398},\n",
       " {'car_id': 'test_car_id_2', 'time': 1552754038.8878112}]"
      ]
     },
     "execution_count": 24,
     "metadata": {},
     "output_type": "execute_result"
    }
   ],
   "source": [
    "pickle.loads(r.get(\"12345678901234567890\"))"
   ]
  },
  {
   "cell_type": "code",
   "execution_count": 30,
   "metadata": {},
   "outputs": [],
   "source": [
    "def log_in(anonymous_id, user_id):\n",
    "    if (r.get(anonymous_id) != None):\n",
    "        temp = r.get(anonymous_id)\n",
    "        r.set(user_id, temp)\n",
    "        r.delete(anonymous_id)\n",
    "    else:\n",
    "        raise \"anonymous id does not exist in Redis\""
   ]
  },
  {
   "cell_type": "code",
   "execution_count": null,
   "metadata": {},
   "outputs": [],
   "source": []
  },
  {
   "cell_type": "code",
   "execution_count": 33,
   "metadata": {},
   "outputs": [],
   "source": [
    "log_in(\"12345678901234567890\", \"user0\")"
   ]
  },
  {
   "cell_type": "code",
   "execution_count": null,
   "metadata": {},
   "outputs": [],
   "source": []
  },
  {
   "cell_type": "code",
   "execution_count": null,
   "metadata": {},
   "outputs": [],
   "source": []
  },
  {
   "cell_type": "code",
   "execution_count": null,
   "metadata": {},
   "outputs": [],
   "source": [
    "def get_car_info(car_id):\n",
    "    "
   ]
  },
  {
   "cell_type": "code",
   "execution_count": 37,
   "metadata": {},
   "outputs": [],
   "source": [
    "with conn:\n",
    "    cur = conn.cursor()\n",
    "    query = \"SELECT * FROM car_inventory WHERE car_id={0}\".format(5029109)\n",
    "    cur.execute(query)\n",
    "\n",
    "    rows = cur.fetchall()\n",
    "    res = pd.DataFrame(rows)"
   ]
  },
  {
   "cell_type": "code",
   "execution_count": 39,
   "metadata": {},
   "outputs": [
    {
     "data": {
      "text/html": [
       "<div>\n",
       "<style scoped>\n",
       "    .dataframe tbody tr th:only-of-type {\n",
       "        vertical-align: middle;\n",
       "    }\n",
       "\n",
       "    .dataframe tbody tr th {\n",
       "        vertical-align: top;\n",
       "    }\n",
       "\n",
       "    .dataframe thead th {\n",
       "        text-align: right;\n",
       "    }\n",
       "</style>\n",
       "<table border=\"1\" class=\"dataframe\">\n",
       "  <thead>\n",
       "    <tr style=\"text-align: right;\">\n",
       "      <th></th>\n",
       "      <th>car_ext_photo_url1</th>\n",
       "      <th>car_ext_photo_url2</th>\n",
       "      <th>car_ext_photo_url3</th>\n",
       "      <th>car_id</th>\n",
       "      <th>car_int_photo_url1</th>\n",
       "      <th>car_int_photo_url2</th>\n",
       "      <th>car_int_photo_url3</th>\n",
       "      <th>car_status</th>\n",
       "      <th>car_status_id</th>\n",
       "      <th>car_year</th>\n",
       "      <th>...</th>\n",
       "      <th>option</th>\n",
       "      <th>passengers</th>\n",
       "      <th>price</th>\n",
       "      <th>severely_damaged_vehicle</th>\n",
       "      <th>transmission_gear</th>\n",
       "      <th>transmission_type</th>\n",
       "      <th>vehicle_page_views</th>\n",
       "      <th>warranty_class</th>\n",
       "      <th>warranty_date</th>\n",
       "      <th>warranty_km</th>\n",
       "    </tr>\n",
       "  </thead>\n",
       "  <tbody>\n",
       "    <tr>\n",
       "      <th>0</th>\n",
       "      <td>http://img.sm360.ca/images/var/images/bdc-hack...</td>\n",
       "      <td>None</td>\n",
       "      <td>None</td>\n",
       "      <td>5029109</td>\n",
       "      <td>http://img.sm360.ca/images/var/images/bdc-hack...</td>\n",
       "      <td>None</td>\n",
       "      <td>None</td>\n",
       "      <td>SOLD</td>\n",
       "      <td>2</td>\n",
       "      <td>2013</td>\n",
       "      <td>...</td>\n",
       "      <td>None</td>\n",
       "      <td>5</td>\n",
       "      <td>12495.00</td>\n",
       "      <td>0</td>\n",
       "      <td>6</td>\n",
       "      <td>AUTOMATIC</td>\n",
       "      <td>72</td>\n",
       "      <td>Class C : 1 month or 1,700 km.</td>\n",
       "      <td>2018-08-22</td>\n",
       "      <td>100000</td>\n",
       "    </tr>\n",
       "  </tbody>\n",
       "</table>\n",
       "<p>1 rows × 56 columns</p>\n",
       "</div>"
      ],
      "text/plain": [
       "                                  car_ext_photo_url1 car_ext_photo_url2  \\\n",
       "0  http://img.sm360.ca/images/var/images/bdc-hack...               None   \n",
       "\n",
       "  car_ext_photo_url3   car_id  \\\n",
       "0               None  5029109   \n",
       "\n",
       "                                  car_int_photo_url1 car_int_photo_url2  \\\n",
       "0  http://img.sm360.ca/images/var/images/bdc-hack...               None   \n",
       "\n",
       "  car_int_photo_url3 car_status  car_status_id  car_year     ...      option  \\\n",
       "0               None       SOLD              2      2013     ...        None   \n",
       "\n",
       "   passengers     price  severely_damaged_vehicle transmission_gear  \\\n",
       "0           5  12495.00                         0                 6   \n",
       "\n",
       "  transmission_type vehicle_page_views                  warranty_class  \\\n",
       "0         AUTOMATIC                 72  Class C : 1 month or 1,700 km.   \n",
       "\n",
       "  warranty_date warranty_km  \n",
       "0    2018-08-22      100000  \n",
       "\n",
       "[1 rows x 56 columns]"
      ]
     },
     "execution_count": 39,
     "metadata": {},
     "output_type": "execute_result"
    }
   ],
   "source": [
    "res"
   ]
  },
  {
   "cell_type": "code",
   "execution_count": null,
   "metadata": {},
   "outputs": [],
   "source": []
  },
  {
   "cell_type": "code",
   "execution_count": null,
   "metadata": {},
   "outputs": [],
   "source": []
  },
  {
   "cell_type": "code",
   "execution_count": null,
   "metadata": {},
   "outputs": [],
   "source": []
  },
  {
   "cell_type": "code",
   "execution_count": null,
   "metadata": {},
   "outputs": [],
   "source": []
  },
  {
   "cell_type": "code",
   "execution_count": null,
   "metadata": {},
   "outputs": [],
   "source": []
  },
  {
   "cell_type": "code",
   "execution_count": null,
   "metadata": {},
   "outputs": [],
   "source": []
  },
  {
   "cell_type": "code",
   "execution_count": null,
   "metadata": {},
   "outputs": [],
   "source": []
  },
  {
   "cell_type": "code",
   "execution_count": null,
   "metadata": {},
   "outputs": [],
   "source": []
  }
 ],
 "metadata": {
  "kernelspec": {
   "display_name": "Python 3",
   "language": "python",
   "name": "python3"
  },
  "language_info": {
   "codemirror_mode": {
    "name": "ipython",
    "version": 3
   },
   "file_extension": ".py",
   "mimetype": "text/x-python",
   "name": "python",
   "nbconvert_exporter": "python",
   "pygments_lexer": "ipython3",
   "version": "3.6.2"
  }
 },
 "nbformat": 4,
 "nbformat_minor": 2
}
