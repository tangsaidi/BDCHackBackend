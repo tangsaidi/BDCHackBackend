{
 "cells": [
  {
   "cell_type": "code",
   "execution_count": 19,
   "metadata": {},
   "outputs": [],
   "source": [
    "import pymysql.cursors\n",
    "import pandas as pd\n",
    "pd.options.display.max_columns = 999\n",
    "\n",
    "# Connect to the database\n",
    "conn = pymysql.connect(host='hackathon-db.bdc.n360.io',\n",
    "                             port=3306,\n",
    "                             user='events',\n",
    "                             password='Hack@th0n2019',\n",
    "                             db='hackathon',\n",
    "                             charset='utf8mb4',\n",
    "                             cursorclass=pymysql.cursors.DictCursor)\n"
   ]
  },
  {
   "cell_type": "code",
   "execution_count": 28,
   "metadata": {},
   "outputs": [],
   "source": [
    "with conn:\n",
    "    cur = conn.cursor()\n",
    "    cur.execute(\"SELECT * FROM promotion\")\n",
    "\n",
    "    rows = cur.fetchall()\n",
    "    res = pd.DataFrame(rows)\n",
    "    \n",
    "#     for row in rows:\n",
    "#         print(row)\n"
   ]
  },
  {
   "cell_type": "code",
   "execution_count": 29,
   "metadata": {},
   "outputs": [
    {
     "data": {
      "text/plain": [
       "Index(['bonus', 'cashdown', 'creation_date', 'description', 'distance_allowed',\n",
       "       'distance_period', 'end_date', 'financing_duration', 'frequency',\n",
       "       'img_url', 'interest_rate', 'last_modified_date', 'make', 'make_id',\n",
       "       'model', 'model_id', 'payment', 'promotion_id', 'rebate', 'start_date',\n",
       "       'title', 'trim', 'trim_id', 'type', 'year'],\n",
       "      dtype='object')"
      ]
     },
     "execution_count": 29,
     "metadata": {},
     "output_type": "execute_result"
    }
   ],
   "source": [
    "res.columns"
   ]
  },
  {
   "cell_type": "code",
   "execution_count": null,
   "metadata": {},
   "outputs": [],
   "source": []
  },
  {
   "cell_type": "code",
   "execution_count": 31,
   "metadata": {},
   "outputs": [],
   "source": [
    "with conn:\n",
    "    cur = conn.cursor()\n",
    "    cur.execute(\"SELECT * FROM organization_unit\")\n",
    "\n",
    "    rows = cur.fetchall()\n",
    "#     print(rows)\n",
    "    res = pd.DataFrame(rows)\n",
    "    \n",
    "#     for row in rows:\n",
    "#         print(row)\n"
   ]
  },
  {
   "cell_type": "code",
   "execution_count": 58,
   "metadata": {},
   "outputs": [],
   "source": [
    "import redis\n",
    "import time\n",
    "import pickle\n",
    "from sklearn.neighbors import NearestNeighbors\n",
    "\n",
    "r = redis.Redis(host='localhost', port=6379, db=0)\n",
    "\n",
    "features = [\"odometer\", \"transmission_type\", \"new\", \"price\", \"passengers\", \"car_year\"]"
   ]
  },
  {
   "cell_type": "code",
   "execution_count": 9,
   "metadata": {},
   "outputs": [
    {
     "data": {
      "text/plain": [
       "True"
      ]
     },
     "execution_count": 9,
     "metadata": {},
     "output_type": "execute_result"
    }
   ],
   "source": []
  },
  {
   "cell_type": "code",
   "execution_count": null,
   "metadata": {},
   "outputs": [],
   "source": []
  },
  {
   "cell_type": "code",
   "execution_count": 25,
   "metadata": {},
   "outputs": [],
   "source": [
    "def log_visit(anonymous_id, car_id):\n",
    "    lst = []\n",
    "    if (r.get(anonymous_id) == None):\n",
    "        lst = [{\n",
    "            \"time\": time.time(),\n",
    "            \"car_id\": car_id\n",
    "        }]\n",
    "    else:\n",
    "        lst = pickle.loads(r.get(anonymous_id))\n",
    "        lst.append({\"time\": time.time(),\n",
    "                    \"car_id\": car_id})\n",
    "    \n",
    "    r.set(anonymous_id, pickle.dumps(lst))\n",
    "\n",
    "        \n",
    "        "
   ]
  },
  {
   "cell_type": "code",
   "execution_count": 23,
   "metadata": {},
   "outputs": [],
   "source": [
    "anonymous_call(\"12345678901234567890\", \"test_car_id_2\")"
   ]
  },
  {
   "cell_type": "code",
   "execution_count": 18,
   "metadata": {},
   "outputs": [
    {
     "data": {
      "text/plain": [
       "True"
      ]
     },
     "execution_count": 18,
     "metadata": {},
     "output_type": "execute_result"
    }
   ],
   "source": [
    "r.set(\"12345678901234567890\", pickle.dumps([]))"
   ]
  },
  {
   "cell_type": "code",
   "execution_count": 24,
   "metadata": {},
   "outputs": [
    {
     "data": {
      "text/plain": [
       "[{'car_id': 'test_car_id_1', 'time': 1552754020.272398},\n",
       " {'car_id': 'test_car_id_2', 'time': 1552754038.8878112}]"
      ]
     },
     "execution_count": 24,
     "metadata": {},
     "output_type": "execute_result"
    }
   ],
   "source": [
    "pickle.loads(r.get(\"12345678901234567890\"))"
   ]
  },
  {
   "cell_type": "code",
   "execution_count": 30,
   "metadata": {},
   "outputs": [],
   "source": [
    "def log_in(anonymous_id, user_id):\n",
    "    if (r.get(anonymous_id) != None):\n",
    "        temp = r.get(anonymous_id)\n",
    "        r.set(user_id, temp)\n",
    "        r.delete(anonymous_id)\n",
    "    else:\n",
    "        raise \"anonymous id does not exist in Redis\""
   ]
  },
  {
   "cell_type": "code",
   "execution_count": 236,
   "metadata": {},
   "outputs": [],
   "source": [
    "import numpy as np"
   ]
  },
  {
   "cell_type": "code",
   "execution_count": 245,
   "metadata": {},
   "outputs": [],
   "source": [
    "def defaultf(o):\n",
    "    if isinstance(o, np.int64): return int(o)  \n",
    "    return o"
   ]
  },
  {
   "cell_type": "code",
   "execution_count": 33,
   "metadata": {},
   "outputs": [],
   "source": [
    "log_in(\"12345678901234567890\", \"user0\")"
   ]
  },
  {
   "cell_type": "code",
   "execution_count": null,
   "metadata": {},
   "outputs": [],
   "source": []
  },
  {
   "cell_type": "code",
   "execution_count": 268,
   "metadata": {},
   "outputs": [],
   "source": [
    "diction =get_car_info(5204244).loc[0].to_dict()\n"
   ]
  },
  {
   "cell_type": "code",
   "execution_count": 277,
   "metadata": {},
   "outputs": [],
   "source": [
    "import decimal\n",
    "for k, v in diction.items():\n",
    "    if (isinstance(v, np.int64)):\n",
    "        diction[k] = int(v)\n",
    "    if (isinstance(v, pd.Timestamp)):\n",
    "        diction[k] = v.strftime('%Y-%m-%d')\n",
    "    if (isinstance(v, decimal.Decimal)):\n",
    "        diction[k] = float(v)\n"
   ]
  },
  {
   "cell_type": "code",
   "execution_count": 278,
   "metadata": {},
   "outputs": [
    {
     "data": {
      "text/plain": [
       "'{\"car_ext_photo_url1\": \"http://img.sm360.ca/images/var/images/bdc-hackathon-2019/used_car.jpg\", \"car_ext_photo_url2\": null, \"car_ext_photo_url3\": null, \"car_id\": 5204244, \"car_int_photo_url1\": \"http://img.sm360.ca/images/var/images/bdc-hackathon-2019/used_car.jpg\", \"car_int_photo_url2\": null, \"car_int_photo_url3\": null, \"car_status\": \"FOR_SALE\", \"car_status_id\": 1, \"car_year\": 2009, \"carproof\": 1, \"certified\": 0, \"clearance\": 0, \"commercial\": 0, \"cubic_capacity\": null, \"date_created\": \"2017-08-09\", \"date_entry\": \"2017-08-09\", \"date_service\": null, \"date_sold\": null, \"date_updated\": \"2018-12-21\", \"demo\": 0, \"doors\": 2, \"drive_train\": null, \"engine_type\": \"4\", \"extend_warranty_id\": 0, \"extra_option\": \"Driver Air Bag,Passenger Air Bag,Front Side Air Bag,Front Head Air Bag,Rear Head Air Bag,Climate Control,A/C,AM/FM Stereo,CD Player,ABS,4-Wheel Disc Brakes,Cruise Control,Rear Defrost,Keyless Entry,Power Door Locks,Heated Mirrors,Power Mirror(s),Pass-Through Rear Seat,Bucket Seats,Power Steering,Adjustable Steering Wheel,Traction Control,Aluminum Wheels,Power Windows,Intermittent Wipers,MP3 Player,Fog Lamps,Variable Speed Intermittent Wipers,Steering Wheel Audio Controls,Power Outlet,Engine Immobilizer,HID headlights,Automatic Headlights,Auto-Dimming Rearview Mirror,Driver Vanity Mirror,Passenger Vanity Mirror,Leather Steering Wheel,Tire Pressure Monitor,Trip Computer,Stability Control,Brake Assist,Auxiliary Audio Input,Cargo Shade,Rear Bench Seat,Passenger Air Bag Sensor\", \"fuel\": \"Gasoline\", \"induction\": null, \"inventory_color\": \"Red\", \"inventory_frame_category\": \"Passenger\", \"inventory_frame_category_id\": 1, \"inventory_frame_desc\": null, \"inventory_frame_style\": \"Coupe\", \"inventory_frame_style_id\": 2, \"inventory_id\": 6, \"inventory_interior_color\": \"Black\", \"inventory_make\": \"MINI\", \"inventory_make_id\": 822, \"inventory_model\": \"Cooper Hardtop\", \"inventory_model_desc_id\": 24546, \"inventory_trim\": \"S CUIR TOIT OUVRANT PANORAMIQUE\", \"inventory_trim_id\": 228729, \"inventory_vehicle_category_id\": 1, \"new\": 0, \"note\": \"Fully Equipped, Sun Roof, Power Windows, Power Doors, Power Steering, Cruise Control, Electric Mirrors, Remote Keyless Entry, Air Conditioning, Leather Interior, Heated Front Seats, Tilt Steering Wheel, AM/FM Radio, 6 Speakers, CD Player, AUX Input, Bluetooth, Onboard Computer, Tachometer, Steering Wheel Audio Controls, Anti-Theft, Driver Airbag, Passenger Airbag, Side Airbags, ABS Brakes, Traction Control, Tire Pressure Monitoring System, Alloy Wheels, Fog Lights\", \"odometer\": 170500, \"option\": null, \"passengers\": 4, \"price\": 5994.0, \"severely_damaged_vehicle\": 0, \"transmission_gear\": 6, \"transmission_type\": \"MANUAL\", \"vehicle_page_views\": 92, \"warranty_class\": \"Class C : 1 month or 1,700 km.\", \"warranty_date\": null, \"warranty_km\": null}'"
      ]
     },
     "execution_count": 278,
     "metadata": {},
     "output_type": "execute_result"
    }
   ],
   "source": [
    "json.dumps(diction)"
   ]
  },
  {
   "cell_type": "code",
   "execution_count": 224,
   "metadata": {},
   "outputs": [],
   "source": [
    "def get_car_info(car_id):\n",
    "    with conn:\n",
    "        cur = conn.cursor()\n",
    "        query = \"SELECT * FROM car_inventory WHERE car_id={0}\".format(car_id)\n",
    "        cur.execute(query)\n",
    "\n",
    "        rows = cur.fetchall()\n",
    "        res = pd.DataFrame(rows)\n",
    "    return res"
   ]
  },
  {
   "cell_type": "code",
   "execution_count": 223,
   "metadata": {},
   "outputs": [
    {
     "data": {
      "text/plain": [
       "{'car_ext_photo_url1': 'http://img.sm360.ca/images/var/images/bdc-hackathon-2019/used_car.jpg',\n",
       " 'car_ext_photo_url2': None,\n",
       " 'car_ext_photo_url3': None,\n",
       " 'car_id': 3272090,\n",
       " 'car_int_photo_url1': 'http://img.sm360.ca/images/var/images/bdc-hackathon-2019/used_car.jpg',\n",
       " 'car_int_photo_url2': None,\n",
       " 'car_int_photo_url3': None,\n",
       " 'car_status': 'DELETED',\n",
       " 'car_status_id': 3,\n",
       " 'car_year': 2010,\n",
       " 'carproof': 1,\n",
       " 'certified': 0,\n",
       " 'clearance': 0,\n",
       " 'commercial': 0,\n",
       " 'cubic_capacity': None,\n",
       " 'date_created': Timestamp('2013-04-23 21:40:47'),\n",
       " 'date_entry': Timestamp('2010-02-17 00:00:00'),\n",
       " 'date_service': None,\n",
       " 'date_sold': None,\n",
       " 'date_updated': Timestamp('2014-10-01 21:28:17'),\n",
       " 'demo': 0,\n",
       " 'doors': 4,\n",
       " 'drive_train': None,\n",
       " 'engine_type': '4',\n",
       " 'extend_warranty_id': 0,\n",
       " 'extra_option': None,\n",
       " 'fuel': None,\n",
       " 'induction': None,\n",
       " 'inventory_color': 'Black',\n",
       " 'inventory_frame_category': 'Passenger',\n",
       " 'inventory_frame_category_id': None,\n",
       " 'inventory_frame_desc': None,\n",
       " 'inventory_frame_style': 'Sedan',\n",
       " 'inventory_frame_style_id': 1,\n",
       " 'inventory_id': 6,\n",
       " 'inventory_interior_color': 'Black',\n",
       " 'inventory_make': 'Mazda',\n",
       " 'inventory_make_id': 567,\n",
       " 'inventory_model': 'Mazda3',\n",
       " 'inventory_model_desc_id': 2313,\n",
       " 'inventory_trim': None,\n",
       " 'inventory_trim_id': 1,\n",
       " 'inventory_vehicle_category_id': 1,\n",
       " 'new': 0,\n",
       " 'note': 'Fully Equipped, AM/FM Radio, CD Player, Power Windows, Power Doors, Power Steering, Air Conditioning, Cruise Control, Sun Roof, Electric Mirrors, Alloy Wheels, Tilt Steering, Air Bags, Rear-Folding Seats, Intermittent Wipers, Protective Side Moulding, Remote Entry, Tachometer, Power Brakes, Steering wheel audio controls',\n",
       " 'odometer': 9098,\n",
       " 'option': None,\n",
       " 'passengers': 5,\n",
       " 'price': Decimal('21019.00'),\n",
       " 'severely_damaged_vehicle': 0,\n",
       " 'transmission_gear': 0,\n",
       " 'transmission_type': 'AUTOMATIC',\n",
       " 'vehicle_page_views': None,\n",
       " 'warranty_class': 'Class D',\n",
       " 'warranty_date': None,\n",
       " 'warranty_km': 0}"
      ]
     },
     "execution_count": 223,
     "metadata": {},
     "output_type": "execute_result"
    }
   ],
   "source": [
    "car.loc[0].to_dict()"
   ]
  },
  {
   "cell_type": "code",
   "execution_count": 55,
   "metadata": {},
   "outputs": [
    {
     "data": {
      "text/plain": [
       "0    None\n",
       "Name: car_ext_photo_url3, dtype: object"
      ]
     },
     "execution_count": 55,
     "metadata": {},
     "output_type": "execute_result"
    }
   ],
   "source": []
  },
  {
   "cell_type": "code",
   "execution_count": null,
   "metadata": {},
   "outputs": [],
   "source": [
    "from sklearn.preprocessing import StandardScaler, MinMaxScaler\n"
   ]
  },
  {
   "cell_type": "code",
   "execution_count": null,
   "metadata": {},
   "outputs": [],
   "source": []
  },
  {
   "cell_type": "code",
   "execution_count": 14,
   "metadata": {},
   "outputs": [],
   "source": [
    "def get_cars(inventory_id):\n",
    "    with conn:\n",
    "        cur = conn.cursor()\n",
    "        query = \"SELECT * FROM car_inventory WHERE inventory_id={0}\".format(inventory_id)\n",
    "        cur.execute(query)\n",
    "\n",
    "        rows = cur.fetchall()\n",
    "        res = pd.DataFrame(rows)\n",
    "    return res"
   ]
  },
  {
   "cell_type": "code",
   "execution_count": 158,
   "metadata": {},
   "outputs": [],
   "source": [
    "def number_crunch(inventory_id):\n",
    "    inv = get_cars(inventory_id)\n",
    "    for_sale = inv.loc[(inv['car_status'] != \"SOLD\") & (inv['car_status'] != \"DELETED\")]\n",
    "    feature_df = for_sale[features]\n",
    "    processed_feature_df = pd.concat([feature_df, pd.get_dummies(feature_df[\"transmission_type\"])\n",
    "                                  .drop(\"MANUAL\", axis = 1)], axis = 1).drop(\"transmission_type\", axis = 1)\n",
    "    processed_feature_df = processed_feature_df.fillna(processed_feature_df.mean())\n",
    "    scaler = StandardScaler()\n",
    "    scaler.fit(processed_feature_df)\n",
    "    processed_feature_df = pd.DataFrame(scaler.transform(processed_feature_df), columns = feature_df.columns)\n",
    "    nbrs = NearestNeighbors(n_neighbors=4, algorithm='ball_tree').fit(processed_feature_df)\n",
    "    distances, indices = nbrs.kneighbors(processed_feature_df)\n",
    "    distances = pd.DataFrame(distances).drop([0], axis = 1)\n",
    "    indices = pd.DataFrame(indices).drop([0],axis = 1)\n",
    "\n",
    "    scaler = StandardScaler()\n",
    "    print(scaler.fit(distances))\n",
    "    scaler.transform(distances)\n",
    "    distances = distances.applymap(lambda x: 10 - x)\n",
    "\n",
    "    indices = pd.concat([pd.DataFrame(indices), for_sale[\"car_id\"].reset_index(drop = True)], axis =1)\n",
    "    distances = pd.concat([pd.DataFrame(distances), for_sale[\"car_id\"].reset_index(drop = True)], axis = 1)\n",
    "    return indices, distances"
   ]
  },
  {
   "cell_type": "code",
   "execution_count": 159,
   "metadata": {},
   "outputs": [
    {
     "name": "stdout",
     "output_type": "stream",
     "text": [
      "StandardScaler(copy=True, with_mean=True, with_std=True)\n"
     ]
    }
   ],
   "source": [
    "indices, distances = number_crunch(6)"
   ]
  },
  {
   "cell_type": "code",
   "execution_count": 168,
   "metadata": {},
   "outputs": [],
   "source": [
    "import json"
   ]
  },
  {
   "cell_type": "code",
   "execution_count": 187,
   "metadata": {},
   "outputs": [
    {
     "data": {
      "text/html": [
       "<div>\n",
       "<style scoped>\n",
       "    .dataframe tbody tr th:only-of-type {\n",
       "        vertical-align: middle;\n",
       "    }\n",
       "\n",
       "    .dataframe tbody tr th {\n",
       "        vertical-align: top;\n",
       "    }\n",
       "\n",
       "    .dataframe thead th {\n",
       "        text-align: right;\n",
       "    }\n",
       "</style>\n",
       "<table border=\"1\" class=\"dataframe\">\n",
       "  <thead>\n",
       "    <tr style=\"text-align: right;\">\n",
       "      <th></th>\n",
       "      <th>1</th>\n",
       "      <th>2</th>\n",
       "      <th>3</th>\n",
       "      <th>car_id</th>\n",
       "    </tr>\n",
       "  </thead>\n",
       "  <tbody>\n",
       "    <tr>\n",
       "      <th>0</th>\n",
       "      <td>68</td>\n",
       "      <td>80</td>\n",
       "      <td>94</td>\n",
       "      <td>5204244</td>\n",
       "    </tr>\n",
       "    <tr>\n",
       "      <th>1</th>\n",
       "      <td>53</td>\n",
       "      <td>116</td>\n",
       "      <td>29</td>\n",
       "      <td>5246798</td>\n",
       "    </tr>\n",
       "    <tr>\n",
       "      <th>2</th>\n",
       "      <td>22</td>\n",
       "      <td>20</td>\n",
       "      <td>15</td>\n",
       "      <td>5299871</td>\n",
       "    </tr>\n",
       "    <tr>\n",
       "      <th>3</th>\n",
       "      <td>13</td>\n",
       "      <td>12</td>\n",
       "      <td>14</td>\n",
       "      <td>5334072</td>\n",
       "    </tr>\n",
       "    <tr>\n",
       "      <th>4</th>\n",
       "      <td>5</td>\n",
       "      <td>10</td>\n",
       "      <td>9</td>\n",
       "      <td>5341411</td>\n",
       "    </tr>\n",
       "  </tbody>\n",
       "</table>\n",
       "</div>"
      ],
      "text/plain": [
       "    1    2   3   car_id\n",
       "0  68   80  94  5204244\n",
       "1  53  116  29  5246798\n",
       "2  22   20  15  5299871\n",
       "3  13   12  14  5334072\n",
       "4   5   10   9  5341411"
      ]
     },
     "execution_count": 187,
     "metadata": {},
     "output_type": "execute_result"
    }
   ],
   "source": [
    "indices.head()"
   ]
  },
  {
   "cell_type": "code",
   "execution_count": 205,
   "metadata": {},
   "outputs": [],
   "source": [
    "arr = indices.loc[indices[\"car_id\"] == 5204244][[1, 2, 3]]"
   ]
  },
  {
   "cell_type": "code",
   "execution_count": 216,
   "metadata": {},
   "outputs": [
    {
     "data": {
      "text/plain": [
       "[5741337, 5764741, 5791398]"
      ]
     },
     "execution_count": 216,
     "metadata": {},
     "output_type": "execute_result"
    }
   ],
   "source": [
    "arr.loc[0].apply(lambda x: indices.loc[x][\"car_id\"]).tolist()"
   ]
  },
  {
   "cell_type": "code",
   "execution_count": 200,
   "metadata": {},
   "outputs": [
    {
     "data": {
      "text/html": [
       "<div>\n",
       "<style scoped>\n",
       "    .dataframe tbody tr th:only-of-type {\n",
       "        vertical-align: middle;\n",
       "    }\n",
       "\n",
       "    .dataframe tbody tr th {\n",
       "        vertical-align: top;\n",
       "    }\n",
       "\n",
       "    .dataframe thead th {\n",
       "        text-align: right;\n",
       "    }\n",
       "</style>\n",
       "<table border=\"1\" class=\"dataframe\">\n",
       "  <thead>\n",
       "    <tr style=\"text-align: right;\">\n",
       "      <th></th>\n",
       "      <th>1</th>\n",
       "      <th>2</th>\n",
       "      <th>3</th>\n",
       "      <th>car_id</th>\n",
       "    </tr>\n",
       "  </thead>\n",
       "  <tbody>\n",
       "    <tr>\n",
       "      <th>0</th>\n",
       "      <td>68</td>\n",
       "      <td>80</td>\n",
       "      <td>94</td>\n",
       "      <td>5204244</td>\n",
       "    </tr>\n",
       "  </tbody>\n",
       "</table>\n",
       "</div>"
      ],
      "text/plain": [
       "    1   2   3   car_id\n",
       "0  68  80  94  5204244"
      ]
     },
     "execution_count": 200,
     "metadata": {},
     "output_type": "execute_result"
    }
   ],
   "source": [
    "indices.loc[indices[\"car_id\"] == 5204244]"
   ]
  },
  {
   "cell_type": "code",
   "execution_count": 179,
   "metadata": {},
   "outputs": [
    {
     "name": "stdout",
     "output_type": "stream",
     "text": [
      "0    68\n",
      "Name: 1, dtype: int64\n",
      "0    80\n",
      "Name: 2, dtype: int64\n",
      "0    94\n",
      "Name: 3, dtype: int64\n",
      "0    5204244\n",
      "Name: car_id, dtype: int64\n"
     ]
    },
    {
     "data": {
      "text/plain": [
       "'{\"ids\": [null, null, null, null], \"distances\": [8.352779920648079, 8.14813589299507, 8.054650572130058, 5204244.0]}'"
      ]
     },
     "execution_count": 179,
     "metadata": {},
     "output_type": "execute_result"
    }
   ],
   "source": [
    "json.dumps({\"ids\": indices.loc[indices[\"car_id\"] == 5204244].applymap(lambda x: ndices.loc[x][\"car_id\"]).tolist(),\n",
    "            \"distances\": distances.loc[distances[\"car_id\"] == 5204244].loc[0].tolist()})"
   ]
  },
  {
   "cell_type": "code",
   "execution_count": 279,
   "metadata": {},
   "outputs": [],
   "source": [
    "def get_similar_car(car_id):\n",
    "    arr = indices.loc[indices[\"car_id\"] == 5204244][[1, 2, 3]]\n",
    "    return arr.loc[0].apply(lambda x: indices.loc[x][\"car_id\"]).tolist()"
   ]
  },
  {
   "cell_type": "code",
   "execution_count": 66,
   "metadata": {},
   "outputs": [],
   "source": [
    "feature_df = for_sale[features]"
   ]
  },
  {
   "cell_type": "code",
   "execution_count": 102,
   "metadata": {},
   "outputs": [],
   "source": [
    "processed_feature_df = pd.concat([feature_df, pd.get_dummies(feature_df[\"transmission_type\"])\n",
    "                                  .drop(\"MANUAL\", axis = 1)], axis = 1).drop(\"transmission_type\", axis = 1)"
   ]
  },
  {
   "cell_type": "code",
   "execution_count": 103,
   "metadata": {},
   "outputs": [],
   "source": [
    "processed_feature_df = processed_feature_df.fillna(processed_feature_df.mean())"
   ]
  },
  {
   "cell_type": "code",
   "execution_count": 139,
   "metadata": {},
   "outputs": [
    {
     "name": "stdout",
     "output_type": "stream",
     "text": [
      "StandardScaler(copy=True, with_mean=True, with_std=True)\n"
     ]
    }
   ],
   "source": [
    "from sklearn.preprocessing import StandardScaler, MinMaxScaler\n",
    "scaler = StandardScaler()\n",
    "print(scaler.fit(processed_feature_df))"
   ]
  },
  {
   "cell_type": "code",
   "execution_count": null,
   "metadata": {},
   "outputs": [],
   "source": []
  },
  {
   "cell_type": "code",
   "execution_count": null,
   "metadata": {},
   "outputs": [],
   "source": []
  },
  {
   "cell_type": "code",
   "execution_count": null,
   "metadata": {},
   "outputs": [],
   "source": []
  },
  {
   "cell_type": "code",
   "execution_count": 141,
   "metadata": {},
   "outputs": [],
   "source": [
    "processed_feature_df = pd.DataFrame(scaler.transform(processed_feature_df), columns = feature_df.columns)"
   ]
  },
  {
   "cell_type": "code",
   "execution_count": 145,
   "metadata": {},
   "outputs": [],
   "source": [
    "nbrs = NearestNeighbors(n_neighbors=4, algorithm='ball_tree').fit(processed_feature_df)\n",
    "distances, indices = nbrs.kneighbors(processed_feature_df)"
   ]
  },
  {
   "cell_type": "code",
   "execution_count": 150,
   "metadata": {},
   "outputs": [
    {
     "name": "stdout",
     "output_type": "stream",
     "text": [
      "StandardScaler(copy=True, with_mean=True, with_std=True)\n"
     ]
    }
   ],
   "source": [
    "distances = pd.DataFrame(distances).drop([0], axis = 1)\n",
    "indices = pd.DataFrame(indices).drop([0],axis = 1)\n",
    "\n",
    "scaler = StandardScaler()\n",
    "print(scaler.fit(distances))\n",
    "scaler.transform(distances)\n",
    "distances = distances.applymap(lambda x: 10 - x)\n",
    "\n"
   ]
  },
  {
   "cell_type": "code",
   "execution_count": null,
   "metadata": {},
   "outputs": [],
   "source": []
  },
  {
   "cell_type": "code",
   "execution_count": null,
   "metadata": {},
   "outputs": [],
   "source": [
    "indices = pd.concat([pd.DataFrame(indices), for_sale[\"car_id\"].reset_index(drop = True)], axis =1)\n",
    "distances = pd.concat([pd.DataFrame(distances), for_sale[\"car_id\"].reset_index(drop = True)], axis = 1)"
   ]
  },
  {
   "cell_type": "code",
   "execution_count": null,
   "metadata": {},
   "outputs": [],
   "source": []
  },
  {
   "cell_type": "code",
   "execution_count": 290,
   "metadata": {},
   "outputs": [
    {
     "data": {
      "text/plain": [
       "[8.352779920648079, 8.14813589299507, 8.054650572130058]"
      ]
     },
     "execution_count": 290,
     "metadata": {},
     "output_type": "execute_result"
    }
   ],
   "source": [
    "distances[[1, 2, 3]][distances[\"car_id\"] == 5204244].loc[0].tolist()"
   ]
  },
  {
   "cell_type": "code",
   "execution_count": 281,
   "metadata": {},
   "outputs": [
    {
     "data": {
      "text/html": [
       "<div>\n",
       "<style scoped>\n",
       "    .dataframe tbody tr th:only-of-type {\n",
       "        vertical-align: middle;\n",
       "    }\n",
       "\n",
       "    .dataframe tbody tr th {\n",
       "        vertical-align: top;\n",
       "    }\n",
       "\n",
       "    .dataframe thead th {\n",
       "        text-align: right;\n",
       "    }\n",
       "</style>\n",
       "<table border=\"1\" class=\"dataframe\">\n",
       "  <thead>\n",
       "    <tr style=\"text-align: right;\">\n",
       "      <th></th>\n",
       "      <th>1</th>\n",
       "      <th>2</th>\n",
       "      <th>3</th>\n",
       "      <th>car_id</th>\n",
       "    </tr>\n",
       "  </thead>\n",
       "  <tbody>\n",
       "    <tr>\n",
       "      <th>0</th>\n",
       "      <td>68</td>\n",
       "      <td>80</td>\n",
       "      <td>94</td>\n",
       "      <td>5204244</td>\n",
       "    </tr>\n",
       "  </tbody>\n",
       "</table>\n",
       "</div>"
      ],
      "text/plain": [
       "    1   2   3   car_id\n",
       "0  68  80  94  5204244"
      ]
     },
     "execution_count": 281,
     "metadata": {},
     "output_type": "execute_result"
    }
   ],
   "source": [
    "indices.loc[indices[\"car_id\"] == 5204244]"
   ]
  }
 ],
 "metadata": {
  "kernelspec": {
   "display_name": "Python 3",
   "language": "python",
   "name": "python3"
  },
  "language_info": {
   "codemirror_mode": {
    "name": "ipython",
    "version": 3
   },
   "file_extension": ".py",
   "mimetype": "text/x-python",
   "name": "python",
   "nbconvert_exporter": "python",
   "pygments_lexer": "ipython3",
   "version": "3.6.2"
  }
 },
 "nbformat": 4,
 "nbformat_minor": 2
}
